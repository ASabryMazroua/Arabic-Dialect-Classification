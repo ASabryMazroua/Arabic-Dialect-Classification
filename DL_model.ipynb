{
 "cells": [
  {
   "cell_type": "markdown",
   "metadata": {
    "id": "V8wyMxCV0XZX"
   },
   "source": [
    "### LSTM Model:"
   ]
  },
  {
   "cell_type": "markdown",
   "metadata": {},
   "source": [
    "This notebook was run on Kaggle to make use of the GPU, so the output is removed. You can find the output in the screenshots folder."
   ]
  },
  {
   "cell_type": "code",
   "execution_count": 1,
   "metadata": {
    "execution": {
     "iopub.execute_input": "2022-03-14T13:00:54.372994Z",
     "iopub.status.busy": "2022-03-14T13:00:54.372276Z",
     "iopub.status.idle": "2022-03-14T13:01:32.303991Z",
     "shell.execute_reply": "2022-03-14T13:01:32.303137Z",
     "shell.execute_reply.started": "2022-03-14T13:00:54.372878Z"
    },
    "id": "8as6Jyum9lnX",
    "outputId": "ef5138e5-98b3-48e1-e261-83e846b49697"
   },
   "outputs": [],
   "source": [
    "!pip install \n",
    "!pip install tensorflow_addons \n",
    "!pip install gdown"
   ]
  },
  {
   "cell_type": "code",
   "execution_count": 2,
   "metadata": {
    "execution": {
     "iopub.execute_input": "2022-03-14T13:01:32.307902Z",
     "iopub.status.busy": "2022-03-14T13:01:32.307685Z",
     "iopub.status.idle": "2022-03-14T13:01:38.317961Z",
     "shell.execute_reply": "2022-03-14T13:01:38.317080Z",
     "shell.execute_reply.started": "2022-03-14T13:01:32.307876Z"
    },
    "id": "f2b2881e"
   },
   "outputs": [],
   "source": [
    "#Importing libraries\n",
    "import gdown\n",
    "import numpy as np\n",
    "import pandas as pd\n",
    "import pickle\n",
    "from sklearn.preprocessing import LabelEncoder\n",
    "from sklearn.metrics import accuracy_score, classification_report\n",
    "from sklearn.model_selection import train_test_split, RepeatedStratifiedKFold, GridSearchCV\n",
    "from sklearn.preprocessing import OneHotEncoder \n",
    "import tensorflow as tf\n",
    "from keras.layers import Dense, Embedding, LSTM\n",
    "from keras.models import Sequential\n",
    "from keras.preprocessing.text import Tokenizer\n",
    "from keras.preprocessing.sequence import pad_sequences\n",
    "from tensorflow.keras.optimizers import Adam\n",
    "from tensorflow import keras\n",
    "import tensorflow_addons as tfa\n",
    "from tensorflow.keras.callbacks import ModelCheckpoint, ReduceLROnPlateau\n",
    "from livelossplot import PlotLossesKerasTF"
   ]
  },
  {
   "cell_type": "markdown",
   "metadata": {
    "id": "h8vttFj_0sDE"
   },
   "source": [
    "### 2- Importing the clean dataset:"
   ]
  },
  {
   "cell_type": "code",
   "execution_count": 4,
   "metadata": {
    "execution": {
     "iopub.execute_input": "2022-03-14T13:01:55.498563Z",
     "iopub.status.busy": "2022-03-14T13:01:55.497894Z",
     "iopub.status.idle": "2022-03-14T13:02:01.614146Z",
     "shell.execute_reply": "2022-03-14T13:02:01.613349Z",
     "shell.execute_reply.started": "2022-03-14T13:01:55.498521Z"
    }
   },
   "outputs": [],
   "source": [
    "#Downloading the clean dataste from Google Drive\n",
    "!gdown 1Tjlk8QcMPLgEuOIQGO4n6WFnWoV-y0Ej"
   ]
  },
  {
   "cell_type": "code",
   "execution_count": 5,
   "metadata": {
    "execution": {
     "iopub.execute_input": "2022-03-14T13:02:07.463668Z",
     "iopub.status.busy": "2022-03-14T13:02:07.462882Z",
     "iopub.status.idle": "2022-03-14T13:02:08.789082Z",
     "shell.execute_reply": "2022-03-14T13:02:08.788330Z",
     "shell.execute_reply.started": "2022-03-14T13:02:07.463626Z"
    },
    "id": "0hk0gSVF_J8S"
   },
   "outputs": [],
   "source": [
    "#Import the clean dataset\n",
    "data = pd.read_csv(\"clean_dialect_dataset.csv\", index_col=0)"
   ]
  },
  {
   "cell_type": "code",
   "execution_count": 6,
   "metadata": {
    "execution": {
     "iopub.execute_input": "2022-03-14T13:02:11.805851Z",
     "iopub.status.busy": "2022-03-14T13:02:11.805585Z",
     "iopub.status.idle": "2022-03-14T13:02:11.821711Z",
     "shell.execute_reply": "2022-03-14T13:02:11.820970Z",
     "shell.execute_reply.started": "2022-03-14T13:02:11.805821Z"
    },
    "id": "FoD4FToM_RvD",
    "outputId": "49ecac80-3b0a-4522-9a29-764e0870dc9d"
   },
   "outputs": [],
   "source": [
    "data.head()"
   ]
  },
  {
   "cell_type": "code",
   "execution_count": 7,
   "metadata": {
    "execution": {
     "iopub.execute_input": "2022-03-14T13:02:12.853153Z",
     "iopub.status.busy": "2022-03-14T13:02:12.852481Z",
     "iopub.status.idle": "2022-03-14T13:02:12.860987Z",
     "shell.execute_reply": "2022-03-14T13:02:12.859836Z",
     "shell.execute_reply.started": "2022-03-14T13:02:12.853112Z"
    },
    "id": "lEaXVBiN_R80",
    "outputId": "6e80705e-43d2-4073-a2ee-6b2721fb3efa"
   },
   "outputs": [],
   "source": [
    "data.shape"
   ]
  },
  {
   "cell_type": "code",
   "execution_count": 8,
   "metadata": {
    "execution": {
     "iopub.execute_input": "2022-03-14T13:02:16.330806Z",
     "iopub.status.busy": "2022-03-14T13:02:16.330022Z",
     "iopub.status.idle": "2022-03-14T13:02:16.447353Z",
     "shell.execute_reply": "2022-03-14T13:02:16.446603Z",
     "shell.execute_reply.started": "2022-03-14T13:02:16.330765Z"
    },
    "id": "YViKHVgI_ZXh"
   },
   "outputs": [],
   "source": [
    "#LAbel encoding the dialect\n",
    "encoder = LabelEncoder()\n",
    "data[\"dialect_transformed\"] = encoder.fit_transform(data[\"dialect\"])"
   ]
  },
  {
   "cell_type": "code",
   "execution_count": 9,
   "metadata": {
    "execution": {
     "iopub.execute_input": "2022-03-14T13:02:31.351037Z",
     "iopub.status.busy": "2022-03-14T13:02:31.350759Z",
     "iopub.status.idle": "2022-03-14T13:02:31.356153Z",
     "shell.execute_reply": "2022-03-14T13:02:31.355406Z",
     "shell.execute_reply.started": "2022-03-14T13:02:31.351005Z"
    },
    "id": "LSAWZvVd_ZZy"
   },
   "outputs": [],
   "source": [
    "#Will save for future use in the server\n",
    "output = open('dl_dialect_encoder.pkl', 'wb')\n",
    "pickle.dump(encoder, output)\n",
    "output.close()"
   ]
  },
  {
   "cell_type": "code",
   "execution_count": 10,
   "metadata": {
    "execution": {
     "iopub.execute_input": "2022-03-14T13:02:37.747414Z",
     "iopub.status.busy": "2022-03-14T13:02:37.747106Z",
     "iopub.status.idle": "2022-03-14T13:02:37.755058Z",
     "shell.execute_reply": "2022-03-14T13:02:37.754193Z",
     "shell.execute_reply.started": "2022-03-14T13:02:37.747381Z"
    },
    "id": "8y3axyW4HXzM"
   },
   "outputs": [],
   "source": [
    "X = data.text\n",
    "y = data.dialect"
   ]
  },
  {
   "cell_type": "code",
   "execution_count": 11,
   "metadata": {
    "execution": {
     "iopub.execute_input": "2022-03-14T13:02:41.651829Z",
     "iopub.status.busy": "2022-03-14T13:02:41.651568Z",
     "iopub.status.idle": "2022-03-14T13:02:41.867286Z",
     "shell.execute_reply": "2022-03-14T13:02:41.866552Z",
     "shell.execute_reply.started": "2022-03-14T13:02:41.651800Z"
    },
    "id": "YY8pomkMHf8d"
   },
   "outputs": [],
   "source": [
    "#OneHot Encoding for the target column to work with dense layer in the model\n",
    "y = OneHotEncoder().fit_transform(np.array(y).reshape(-1,1)).toarray()"
   ]
  },
  {
   "cell_type": "code",
   "execution_count": 12,
   "metadata": {
    "execution": {
     "iopub.execute_input": "2022-03-14T13:02:44.082062Z",
     "iopub.status.busy": "2022-03-14T13:02:44.081577Z",
     "iopub.status.idle": "2022-03-14T13:02:44.345958Z",
     "shell.execute_reply": "2022-03-14T13:02:44.345208Z",
     "shell.execute_reply.started": "2022-03-14T13:02:44.082022Z"
    },
    "id": "jdL40KRx_Zb8"
   },
   "outputs": [],
   "source": [
    "#Splitting the data\n",
    "X_train, X_test, y_train, y_test  = train_test_split(X, y,train_size=0.8,\n",
    "                                               stratify=data.loc[:,\"dialect_transformed\"],\n",
    "                                               random_state=77)"
   ]
  },
  {
   "cell_type": "markdown",
   "metadata": {
    "id": "8rdX09o83Udc"
   },
   "source": [
    "## Using a Neural Network Approach (LSTM):"
   ]
  },
  {
   "cell_type": "code",
   "execution_count": 39,
   "metadata": {
    "execution": {
     "iopub.execute_input": "2022-03-14T17:53:23.134560Z",
     "iopub.status.busy": "2022-03-14T17:53:23.134294Z",
     "iopub.status.idle": "2022-03-14T17:54:13.696781Z",
     "shell.execute_reply": "2022-03-14T17:54:13.695973Z",
     "shell.execute_reply.started": "2022-03-14T17:53:23.134532Z"
    },
    "id": "smtHS7Hp9GOp"
   },
   "outputs": [],
   "source": [
    "# Initialize and fit the tokenizer\n",
    "tokenizer = Tokenizer()\n",
    "tokenizer.fit_on_texts(X_train)\n",
    "\n",
    "#Splitting the training data into data and validation\n",
    "X_train, X_val, y_train, y_val = train_test_split(X_train, y_train, test_size=0.2, stratify=y_train, random_state=42)\n",
    "\n",
    "#Tokenizing the tweets\n",
    "X_train_seq = tokenizer.texts_to_sequences(X_train)\n",
    "X_val_seq = tokenizer.texts_to_sequences(X_val)\n",
    "X_test_seq = tokenizer.texts_to_sequences(X_test)\n",
    "\n",
    "# Pad the sequences so each sequence is the same length\n",
    "X_train_seq_padded = pad_sequences(X_train_seq, 140)\n",
    "X_val_seq_padded = pad_sequences(X_val_seq, 140)\n",
    "X_test_seq_padded = pad_sequences(X_test_seq, 140)"
   ]
  },
  {
   "cell_type": "code",
   "execution_count": 46,
   "metadata": {
    "execution": {
     "iopub.execute_input": "2022-03-14T18:16:17.414255Z",
     "iopub.status.busy": "2022-03-14T18:16:17.413905Z",
     "iopub.status.idle": "2022-03-14T18:16:17.541588Z",
     "shell.execute_reply": "2022-03-14T18:16:17.540944Z",
     "shell.execute_reply.started": "2022-03-14T18:16:17.414224Z"
    },
    "id": "4a-Py0x69GQg",
    "outputId": "9343ba6d-065b-4869-a2a1-842601d0ed85"
   },
   "outputs": [],
   "source": [
    "# Construct a simple RNN model\n",
    "model = Sequential()\n",
    "\n",
    "model.add(Embedding(len(tokenizer.index_word)+1, 128))\n",
    "model.add(LSTM(128, dropout=0.01, recurrent_dropout=0.01))\n",
    "model.add(Dense(256, activation='relu'))\n",
    "model.add(Dense(18, activation='sigmoid'))"
   ]
  },
  {
   "cell_type": "code",
   "execution_count": 47,
   "metadata": {
    "execution": {
     "iopub.execute_input": "2022-03-14T18:16:17.655328Z",
     "iopub.status.busy": "2022-03-14T18:16:17.655134Z",
     "iopub.status.idle": "2022-03-14T18:16:17.684142Z",
     "shell.execute_reply": "2022-03-14T18:16:17.683502Z",
     "shell.execute_reply.started": "2022-03-14T18:16:17.655304Z"
    },
    "id": "aEyQjgenEJYg",
    "outputId": "1df6ba66-6ab8-42e4-cbe9-92de38324459"
   },
   "outputs": [],
   "source": [
    "METRICS = [\n",
    "      keras.metrics.BinaryAccuracy(name='accuracy'),\n",
    "      keras.metrics.Precision(name='precision'),\n",
    "      keras.metrics.Recall(name='recall'),\n",
    "      keras.metrics.AUC(name='auc'),\n",
    "      keras.metrics.AUC(name='prc', curve='PR'), # precision-recall curve\n",
    "]\n",
    "\n",
    "#First tried the categorical_crossentropy but the performance was not that good.\n",
    "#Then tried the SigmoidFocalCrossEntropy which resulted in better results but still overfitting!!\n",
    "# model.compile(optimizer=Adam(learning_rate=0.0001), loss = 'categorical_crossentropy', metrics=METRICS)\n",
    "model.compile(optimizer=Adam(learning_rate=0.001), loss = tfa.losses.SigmoidFocalCrossEntropy(alpha=0.20, gamma=2.0,reduction=tf.keras.losses.Reduction.AUTO), metrics=METRICS)\n",
    "model.summary()"
   ]
  },
  {
   "cell_type": "code",
   "execution_count": 48,
   "metadata": {
    "execution": {
     "iopub.execute_input": "2022-03-14T18:16:18.144884Z",
     "iopub.status.busy": "2022-03-14T18:16:18.144668Z",
     "iopub.status.idle": "2022-03-14T18:16:18.151265Z",
     "shell.execute_reply": "2022-03-14T18:16:18.150104Z",
     "shell.execute_reply.started": "2022-03-14T18:16:18.144859Z"
    },
    "id": "kBsJT4moH9Z1"
   },
   "outputs": [],
   "source": [
    "epochs =3\n",
    "\n",
    "#Reduce learning rate when a metric has stopped improving.\n",
    "reduce_lr = ReduceLROnPlateau(monitor='val_loss', factor=0.1,\n",
    "                              patience=2, min_lr=0.0001, mode='auto')\n",
    "\n",
    "#save the Keras model or model weights at some frequency.\n",
    "checkpoint = ModelCheckpoint(\"model_weights.h5\", monitor='val_prc',save_weights_only=True, mode='max', verbose=1)\n",
    "\n",
    "#Stop training when a monitored metric has stopped improving.\n",
    "early_stop = tf.keras.callbacks.EarlyStopping(patience=5, restore_best_weights=True)\n",
    "\n",
    "#Callback\n",
    "callbacks = [PlotLossesKerasTF(), reduce_lr, early_stop]"
   ]
  },
  {
   "cell_type": "code",
   "execution_count": 49,
   "metadata": {
    "execution": {
     "iopub.execute_input": "2022-03-14T18:16:18.335761Z",
     "iopub.status.busy": "2022-03-14T18:16:18.335553Z",
     "iopub.status.idle": "2022-03-14T18:31:43.737367Z",
     "shell.execute_reply": "2022-03-14T18:31:43.736587Z",
     "shell.execute_reply.started": "2022-03-14T18:16:18.335736Z"
    },
    "id": "F5Q06jKCH9c8",
    "outputId": "5c331d98-871d-4bb9-d811-bf2cad8fbcd8"
   },
   "outputs": [],
   "source": [
    "#Train the RNN model\n",
    "history = model.fit(X_train_seq_padded, y_train,\n",
    "                    batch_size = 512,\n",
    "                    epochs = epochs,\n",
    "                    validation_data=(X_val_seq_padded, y_val),\n",
    "                    callbacks = callbacks)"
   ]
  },
  {
   "cell_type": "code",
   "execution_count": 50,
   "metadata": {
    "execution": {
     "iopub.execute_input": "2022-03-14T18:31:43.739401Z",
     "iopub.status.busy": "2022-03-14T18:31:43.739143Z",
     "iopub.status.idle": "2022-03-14T18:33:21.502313Z",
     "shell.execute_reply": "2022-03-14T18:33:21.500892Z",
     "shell.execute_reply.started": "2022-03-14T18:31:43.739366Z"
    },
    "id": "cJ_RU4RdK2pN"
   },
   "outputs": [],
   "source": [
    "y_pred = np.argmax(model.predict([X_test_seq_padded]), axis=1)\n",
    "y_test_class = np.argmax(y_test, axis=1)"
   ]
  },
  {
   "cell_type": "code",
   "execution_count": 51,
   "metadata": {
    "execution": {
     "iopub.execute_input": "2022-03-14T18:33:21.504688Z",
     "iopub.status.busy": "2022-03-14T18:33:21.504170Z",
     "iopub.status.idle": "2022-03-14T18:33:21.762727Z",
     "shell.execute_reply": "2022-03-14T18:33:21.761975Z",
     "shell.execute_reply.started": "2022-03-14T18:33:21.504625Z"
    },
    "id": "lU0VaG5RJAPl"
   },
   "outputs": [],
   "source": [
    "#Classification report and score on the test dataset\n",
    "print(classification_report(y_test_class,y_pred))\n",
    "print('Score:',accuracy_score(y_test_class,y_pred))"
   ]
  }
 ],
 "metadata": {
  "kernelspec": {
   "display_name": "Python 3",
   "language": "python",
   "name": "python3"
  },
  "language_info": {
   "codemirror_mode": {
    "name": "ipython",
    "version": 3
   },
   "file_extension": ".py",
   "mimetype": "text/x-python",
   "name": "python",
   "nbconvert_exporter": "python",
   "pygments_lexer": "ipython3",
   "version": "3.8.8"
  }
 },
 "nbformat": 4,
 "nbformat_minor": 4
}
